{
  "cells": [
    {
      "cell_type": "code",
      "execution_count": null,
      "metadata": {
        "collapsed": false
      },
      "outputs": [],
      "source": [
        "%matplotlib inline"
      ]
    },
    {
      "cell_type": "markdown",
      "metadata": {},
      "source": [
        "\n# Experiments on synthetic data\n"
      ]
    },
    {
      "cell_type": "code",
      "execution_count": null,
      "metadata": {
        "collapsed": false
      },
      "outputs": [],
      "source": [
        "# Authors: Hugo Richard, Pierre Ablin\n# License: BSD 3 clause\n\nimport numpy as np\nimport matplotlib.pyplot as plt\n\nfrom multiviewica import permica, groupica, multiviewica\n\n# sigmas: data noise\n# m: number of subjects\n# k: number of components\n# n: number of samples\nsigmas = np.logspace(-2, 1, 6)\nn_seeds = 3\nm, k, n = 5, 3, 1000\n\ncm = plt.cm.tab20\nalgos = [\n    (\"MultiViewICA\", cm(0), multiviewica),\n    (\"PermICA\", cm(2), permica),\n    (\"GroupICA\", cm(6), groupica),\n]\n\n\ndef amari_d(W, A):\n    P = np.dot(W, A)\n\n    def s(r):\n        return np.sum(np.sum(r ** 2, axis=1) / np.max(r ** 2, axis=1) - 1)\n\n    return (s(np.abs(P)) + s(np.abs(P.T))) / (2 * P.shape[0])\n\n\nplots = []\nfor name, color, algo in algos:\n    means = []\n    lows = []\n    highs = []\n    for sigma in sigmas:\n        dists = []\n        for seed in range(n_seeds):\n            rng = np.random.RandomState(seed)\n            S_true = rng.laplace(size=(k, n))\n            A_list = rng.randn(m, k, k)\n            noises = rng.randn(m, k, n)\n            X = np.array([A.dot(S_true) for A in A_list])\n            X += [sigma * A.dot(N) for A, N in zip(A_list, noises)]\n            _, W, S = algo(X, tol=1e-4, max_iter=10000)\n            dist = np.mean([amari_d(W[i], A_list[i]) for i in range(m)])\n            dists.append(dist)\n        dists = np.array(dists)\n        mean = np.mean(dists)\n        low = np.quantile(dists, 0.1)\n        high = np.quantile(dists, 0.9)\n        means.append(mean)\n        lows.append(low)\n        highs.append(high)\n    lows = np.array(lows)\n    highs = np.array(highs)\n    means = np.array(means)\n    plots.append((highs, lows, means))\n\nfig = plt.figure(figsize=(5, 3))\nfor i, (name, color, algo) in enumerate(algos):\n    highs, lows, means = plots[i]\n    plt.fill_between(\n        sigmas, lows, highs, color=color, alpha=0.3,\n    )\n    plt.loglog(\n        sigmas, means, label=name, color=color,\n    )\nplt.legend()\nx_ = plt.xlabel(r\"Data noise\")\ny_ = plt.ylabel(r\"Amari distance\")\nfig.tight_layout()\nplt.savefig(\n    \"../figures/synthetic_experiment.png\",\n    bbox_extra_artists=[x_, y_],\n    bbox_inches=\"tight\",\n)\nplt.show()"
      ]
    }
  ],
  "metadata": {
    "kernelspec": {
      "display_name": "Python 3",
      "language": "python",
      "name": "python3"
    },
    "language_info": {
      "codemirror_mode": {
        "name": "ipython",
        "version": 3
      },
      "file_extension": ".py",
      "mimetype": "text/x-python",
      "name": "python",
      "nbconvert_exporter": "python",
      "pygments_lexer": "ipython3",
      "version": "3.10.0"
    }
  },
  "nbformat": 4,
  "nbformat_minor": 0
}